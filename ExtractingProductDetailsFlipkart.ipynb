{
 "cells": [
  {
   "cell_type": "code",
   "execution_count": null,
   "id": "2acf0f5d-d860-48b4-9b8e-cf751c28da73",
   "metadata": {},
   "outputs": [],
   "source": [
    "from selenium import webdriver\n",
    "from selenium.webdriver.common.by import By\n",
    "from selenium.webdriver.common.keys import Keys\n",
    "from selenium.webdriver.support.wait import WebDriverWait\n",
    "from selenium.webdriver.support import expected_conditions as EC\n",
    "from selenium.webdriver.chrome.service import Service"
   ]
  },
  {
   "cell_type": "code",
   "execution_count": null,
   "id": "fd3ca537-88c3-4d44-99bf-f5c74a1824df",
   "metadata": {
    "scrolled": true
   },
   "outputs": [],
   "source": [
    "service = Service(\"C:\\\\Users\\\\Vaibhav Jamdagni\\\\Downloads\\\\chromedriver-win64\\\\chromedriver.exe\")\n",
    "\n",
    "driver = webdriver.Chrome(service = service)\n",
    "\n",
    "driver.get(\"https://www.flipkart.com\")\n",
    "\n",
    "items = {\n",
    "    \"Name\": [],\n",
    "    \"Price\": [],\n",
    "    \"MRP\": [],\n",
    "    \"Discount\": []\n",
    "}\n",
    "\n",
    "search = driver.find_element(By.XPATH,\"/html/body/div[1]/div/div[1]/div/div/div/div/div[1]/div/div[1]/div/div[1]/div[1]/header/div[1]/div[2]/form/div/div/input\")\n",
    "search.clear()\n",
    "search.send_keys(\"Smart Watch\")\n",
    "search.send_keys(Keys.ENTER)\n",
    "    \n",
    "for i in range(1,10):\n",
    "    next = WebDriverWait(driver,10).until(EC.presence_of_element_located((By.XPATH,\"/html/body/div/div/div[3]/div[1]/div[2]/div[12]/div/div/nav/a[11]\")))\n",
    "    \n",
    "    item_name = WebDriverWait(driver,10).until(\n",
    "            EC.presence_of_all_elements_located((By.CLASS_NAME, \"WKTcLC\")))\n",
    "    for j in item_name:\n",
    "        items[\"Name\"].append(j.text)\n",
    "\n",
    "    item_price = WebDriverWait(driver,10).until(\n",
    "            EC.presence_of_all_elements_located((By.CLASS_NAME, \"Nx9bqj\")))\n",
    "    for j in item_price[:-5]:\n",
    "        items[\"Price\"].append(j.text)\n",
    "\n",
    "    item_mrp = WebDriverWait(driver,10).until(\n",
    "            EC.presence_of_all_elements_located((By.CLASS_NAME, \"yRaY8j\")))\n",
    "    for j in item_mrp:\n",
    "        items[\"MRP\"].append(j.text)\n",
    "\n",
    "    item_discount = WebDriverWait(driver,10).until(\n",
    "            EC.presence_of_all_elements_located((By.CLASS_NAME, \"UkUFwK\")))\n",
    "    for j in item_discount[:-5]:\n",
    "        items[\"Discount\"].append(j.text)\n",
    "\n",
    "    next.click()\n",
    "\n",
    "print(items)\n",
    "\n",
    "driver.close()"
   ]
  },
  {
   "cell_type": "code",
   "execution_count": null,
   "id": "b48914a7-8672-49ff-8d6e-687742408708",
   "metadata": {},
   "outputs": [],
   "source": [
    "import pandas as pd"
   ]
  },
  {
   "cell_type": "code",
   "execution_count": null,
   "id": "6579cab2-997d-46d4-a16a-09b7757faa84",
   "metadata": {},
   "outputs": [],
   "source": [
    "print(len(items[\"Name\"]),len(items[\"Price\"]),len(items[\"MRP\"]),len(items[\"Discount\"]))"
   ]
  },
  {
   "cell_type": "code",
   "execution_count": null,
   "id": "29a14aaa-b8ad-4d17-a5be-90acee95180c",
   "metadata": {},
   "outputs": [],
   "source": [
    "df = pd.DataFrame(items)"
   ]
  },
  {
   "cell_type": "code",
   "execution_count": null,
   "id": "3aedc412-d403-49d3-8d8f-767e17c45558",
   "metadata": {},
   "outputs": [],
   "source": [
    "df"
   ]
  },
  {
   "cell_type": "code",
   "execution_count": null,
   "id": "ed624937-5e86-4b31-a241-d1e9330642bc",
   "metadata": {},
   "outputs": [],
   "source": [
    "df.to_csv(\"Smart Watch Details.csv\")"
   ]
  },
  {
   "cell_type": "code",
   "execution_count": null,
   "id": "ba563a21-34d5-41f2-bcd1-e38f3d74e224",
   "metadata": {},
   "outputs": [],
   "source": []
  }
 ],
 "metadata": {
  "kernelspec": {
   "display_name": "Python 3 (ipykernel)",
   "language": "python",
   "name": "python3"
  },
  "language_info": {
   "codemirror_mode": {
    "name": "ipython",
    "version": 3
   },
   "file_extension": ".py",
   "mimetype": "text/x-python",
   "name": "python",
   "nbconvert_exporter": "python",
   "pygments_lexer": "ipython3",
   "version": "3.12.1"
  }
 },
 "nbformat": 4,
 "nbformat_minor": 5
}
